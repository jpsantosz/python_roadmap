{
 "cells": [
  {
   "cell_type": "code",
   "execution_count": 1,
   "metadata": {},
   "outputs": [
    {
     "name": "stdout",
     "output_type": "stream",
     "text": [
      "Olá! Meu nome é João, tenho 20 anos e moro em Rio de Janeiro.\n"
     ]
    }
   ],
   "source": [
    "class Pessoa:\n",
    "    def __init__(self, nome, idade, cidade):\n",
    "        self.nome = nome\n",
    "        self.idade = idade\n",
    "        self.cidade = cidade\n",
    "\n",
    "    def apresentar(self):\n",
    "        print(f\"Olá! Meu nome é {self.nome}, tenho {self.idade} anos e moro em {self.cidade}.\")\n",
    "        \n",
    "# Criando um objeto da classe\n",
    "pessoa1 = Pessoa(\"João\", 20, \"Rio de Janeiro\")\n",
    "\n",
    "# Chamando o método apresentar()\n",
    "pessoa1.apresentar()"
   ]
  },
  {
   "cell_type": "code",
   "execution_count": 2,
   "metadata": {},
   "outputs": [
    {
     "name": "stdout",
     "output_type": "stream",
     "text": [
      "O Honda Civic de 2020 foi ligado!\n"
     ]
    }
   ],
   "source": [
    "class Carro:\n",
    "    def __init__(self, marca, modelo, ano):\n",
    "        self.marca = marca\n",
    "        self.modelo = modelo\n",
    "        self.ano = ano\n",
    "        \n",
    "    def ligar(self):\n",
    "        print(f\"O {self.marca} {self.modelo} de {self.ano} foi ligado!\")\n",
    "        \n",
    "car = Carro(\"Honda\", \"Civic\", 2020)\n",
    "\n",
    "car.ligar()"
   ]
  },
  {
   "cell_type": "code",
   "execution_count": 10,
   "metadata": {},
   "outputs": [
    {
     "name": "stdout",
     "output_type": "stream",
     "text": [
      "O saldo é de R$520,00\n"
     ]
    }
   ],
   "source": [
    "class ContaBancaria:\n",
    "    def __init__(self, titular, saldo):\n",
    "        self.titular = titular\n",
    "        self.saldo = saldo\n",
    "        \n",
    "    def depositar(self, valor):\n",
    "        self.saldo += valor\n",
    "        \n",
    "    def sacar(self, valor):\n",
    "        if (self.saldo - valor) < 0:\n",
    "            print(\"Operação não permitida!\")\n",
    "        else:\n",
    "            self.saldo -= valor\n",
    "        \n",
    "    def mostrar_saldo(self):\n",
    "        print(f\"O saldo é de R${self.saldo},00\")\n",
    "        \n",
    "conta = ContaBancaria(\"João\", 500)\n",
    "conta.depositar(50)\n",
    "conta.sacar(30)\n",
    "conta.mostrar_saldo()"
   ]
  },
  {
   "cell_type": "code",
   "execution_count": 14,
   "metadata": {},
   "outputs": [
    {
     "name": "stdout",
     "output_type": "stream",
     "text": [
      "20\n",
      "18\n"
     ]
    }
   ],
   "source": [
    "class Retangulo:\n",
    "    def __init__(self, largura: float, altura: float):\n",
    "        self.largura: float = largura\n",
    "        self.altura: float = altura\n",
    "        \n",
    "    def calcular_area(self) -> float:\n",
    "        area = self.largura * self.altura\n",
    "        return area\n",
    "    \n",
    "    def calcular_perimetro(self):\n",
    "        perimetro = (self.largura * 2) + (self.altura * 2)\n",
    "        return perimetro\n",
    "    \n",
    "meu_retangulo = Retangulo(4, 5)\n",
    "print(meu_retangulo.calcular_area())\n",
    "print(meu_retangulo.calcular_perimetro())"
   ]
  },
  {
   "cell_type": "code",
   "execution_count": 26,
   "metadata": {},
   "outputs": [
    {
     "name": "stdout",
     "output_type": "stream",
     "text": [
      "João - Matrícula: 2022100\n",
      "Maria - Matrícula: 2022101\n"
     ]
    }
   ],
   "source": [
    "class Aluno():\n",
    "    def __init__(self, nome: str, matricula: int):\n",
    "        self.nome = nome\n",
    "        self.matricula = matricula\n",
    "        \n",
    "class Curso():\n",
    "    def __init__(self, nome: str):\n",
    "        self.nome = nome\n",
    "        self.alunos = []\n",
    "        \n",
    "    def adicionar_alunos(self, aluno: Aluno):\n",
    "        self.alunos.append(aluno)\n",
    "    \n",
    "    def lista_alunos(self):\n",
    "        return [f\"{aluno.nome} - Matrícula: {aluno.matricula}\" for aluno in self.alunos]\n",
    "\n",
    "    \n",
    "aluno1 = Aluno(\"João\", 2022100)\n",
    "aluno2 = Aluno(\"Maria\", 2022101)\n",
    "algoritmos = Curso(\"Algoritmos e Estrutura de Dados\")\n",
    "\n",
    "algoritmos.adicionar_alunos(aluno1)\n",
    "algoritmos.adicionar_alunos(aluno2)\n",
    "\n",
    "for aluno in algoritmos.lista_alunos():\n",
    "    print(aluno)"
   ]
  },
  {
   "cell_type": "code",
   "execution_count": 28,
   "metadata": {},
   "outputs": [
    {
     "name": "stdout",
     "output_type": "stream",
     "text": [
      "Au au\n",
      "Miau\n"
     ]
    }
   ],
   "source": [
    "class Animal:\n",
    "    def emitir_som(self) -> str:\n",
    "        pass\n",
    "\n",
    "\n",
    "class Cachorro(Animal):\n",
    "    def emitir_som(self) -> str:\n",
    "        return \"Au au\"\n",
    "\n",
    "\n",
    "class Gato(Animal):\n",
    "    def emitir_som(self) -> str:\n",
    "        return \"Miau\"\n",
    "\n",
    "\n",
    "# Testando\n",
    "cachorro = Cachorro()\n",
    "gato = Gato()\n",
    "\n",
    "print(cachorro.emitir_som())  # Saída: Au au\n",
    "print(gato.emitir_som())  \n",
    "    "
   ]
  },
  {
   "cell_type": "code",
   "execution_count": 30,
   "metadata": {},
   "outputs": [
    {
     "name": "stdout",
     "output_type": "stream",
     "text": [
      "Salário do Gerente: R$10000\n",
      "Salário do Desenvolvedor: R$6000.0\n"
     ]
    }
   ],
   "source": [
    "class Funcionario:\n",
    "    def __init__(self, salario_base):\n",
    "        self.salario_base = salario_base\n",
    "    \n",
    "    def calcular_salario(self):\n",
    "        return self.salario_base\n",
    "\n",
    "class Gerente(Funcionario):\n",
    "    def calcular_salario(self):\n",
    "        return super().calcular_salario() * 2\n",
    "\n",
    "class Desenvolvedor(Funcionario):\n",
    "    def calcular_salario(self):\n",
    "        return super().calcular_salario() * 1.5\n",
    "\n",
    "# Testando as classes\n",
    "gerente = Gerente(salario_base=5000)\n",
    "desenvolvedor = Desenvolvedor(salario_base=4000)\n",
    "\n",
    "print(f\"Salário do Gerente: R${gerente.calcular_salario()}\")\n",
    "print(f\"Salário do Desenvolvedor: R${desenvolvedor.calcular_salario()}\")\n"
   ]
  }
 ],
 "metadata": {
  "kernelspec": {
   "display_name": "3.11.8",
   "language": "python",
   "name": "python3"
  },
  "language_info": {
   "codemirror_mode": {
    "name": "ipython",
    "version": 3
   },
   "file_extension": ".py",
   "mimetype": "text/x-python",
   "name": "python",
   "nbconvert_exporter": "python",
   "pygments_lexer": "ipython3",
   "version": "3.11.8"
  }
 },
 "nbformat": 4,
 "nbformat_minor": 2
}
