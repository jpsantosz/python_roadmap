{
 "cells": [
  {
   "cell_type": "code",
   "execution_count": 1,
   "metadata": {},
   "outputs": [],
   "source": [
    "f = open(\"C:/Users/user/Documents/python_roadmap/resources/dados.txt\", \"w\")\n",
    "f.write(\"Teste número 1.\\n\")\n",
    "f.write(\"Teste número 2.\\n\")\n",
    "f.write(\"Teste número 3.\\n\")\n",
    "f.close()"
   ]
  },
  {
   "cell_type": "code",
   "execution_count": 2,
   "metadata": {},
   "outputs": [
    {
     "name": "stdout",
     "output_type": "stream",
     "text": [
      "Teste número 1.\n",
      "Teste número 2.\n",
      "Teste número 3.\n",
      "\n"
     ]
    }
   ],
   "source": [
    "t = open(\"C:/Users/user/Documents/python_roadmap/resources/dados.txt\", \"r\")\n",
    "print(t.read())\n",
    "f.close()"
   ]
  },
  {
   "cell_type": "code",
   "execution_count": 3,
   "metadata": {},
   "outputs": [],
   "source": [
    "with open(\"C:/Users/user/Documents/python_roadmap/resources/dados.txt\", \"a\") as arquivo: #  ´a` de append\n",
    "    arquivo.write(\"Teste número 4.\\n\")"
   ]
  }
 ],
 "metadata": {
  "kernelspec": {
   "display_name": "3.11.8",
   "language": "python",
   "name": "python3"
  },
  "language_info": {
   "codemirror_mode": {
    "name": "ipython",
    "version": 3
   },
   "file_extension": ".py",
   "mimetype": "text/x-python",
   "name": "python",
   "nbconvert_exporter": "python",
   "pygments_lexer": "ipython3",
   "version": "3.11.8"
  }
 },
 "nbformat": 4,
 "nbformat_minor": 2
}
