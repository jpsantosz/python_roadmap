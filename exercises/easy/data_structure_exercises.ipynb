{
 "cells": [
  {
   "cell_type": "code",
   "execution_count": 13,
   "metadata": {},
   "outputs": [
    {
     "data": {
      "text/plain": [
       "[1, 2, 3, 4, 5]"
      ]
     },
     "execution_count": 13,
     "metadata": {},
     "output_type": "execute_result"
    }
   ],
   "source": [
    "# Listas \n",
    "\n",
    "number_list = [1,2,3,4,5]\n",
    "number_list"
   ]
  },
  {
   "cell_type": "code",
   "execution_count": 14,
   "metadata": {},
   "outputs": [
    {
     "data": {
      "text/plain": [
       "[1, 2, 3, 4, 5, 7]"
      ]
     },
     "execution_count": 14,
     "metadata": {},
     "output_type": "execute_result"
    }
   ],
   "source": [
    "number_list.append(7)\n",
    "number_list"
   ]
  },
  {
   "cell_type": "code",
   "execution_count": 15,
   "metadata": {},
   "outputs": [
    {
     "data": {
      "text/plain": [
       "[1, 3, 4, 5, 7]"
      ]
     },
     "execution_count": 15,
     "metadata": {},
     "output_type": "execute_result"
    }
   ],
   "source": [
    "number_list.pop(1)\n",
    "number_list"
   ]
  },
  {
   "cell_type": "code",
   "execution_count": 16,
   "metadata": {},
   "outputs": [
    {
     "data": {
      "text/plain": [
       "[7, 5, 4, 3, 1]"
      ]
     },
     "execution_count": 16,
     "metadata": {},
     "output_type": "execute_result"
    }
   ],
   "source": [
    "number_list.reverse()\n",
    "number_list"
   ]
  },
  {
   "cell_type": "code",
   "execution_count": 17,
   "metadata": {},
   "outputs": [
    {
     "data": {
      "text/plain": [
       "[1, 3, 4, 5, 7]"
      ]
     },
     "execution_count": 17,
     "metadata": {},
     "output_type": "execute_result"
    }
   ],
   "source": [
    "number_list.sort()\n",
    "number_list"
   ]
  },
  {
   "cell_type": "code",
   "execution_count": null,
   "metadata": {},
   "outputs": [
    {
     "name": "stdout",
     "output_type": "stream",
     "text": [
      "3.5\n"
     ]
    }
   ],
   "source": [
    "# Crie uma lista de números e calcule a soma e a média deles.\n",
    "\n",
    "numbers = [2,5,8,4,9,1,2,0]\n",
    "soma = 0\n",
    "for num in numbers:\n",
    "    soma += num\n",
    "print(soma/(len(numbers)))"
   ]
  },
  {
   "cell_type": "code",
   "execution_count": 25,
   "metadata": {},
   "outputs": [
    {
     "name": "stdout",
     "output_type": "stream",
     "text": [
      "[1, 3, 5, 6, 9]\n"
     ]
    }
   ],
   "source": [
    "# Crie uma lista com números repetidos e remova os duplicados.\n",
    "\n",
    "nums = [1,3,5,1,6,6,9,3]\n",
    "support = []\n",
    "\n",
    "for num in nums:\n",
    "    if num in support:\n",
    "        continue\n",
    "    else:\n",
    "        support.append(num)\n",
    "    \n",
    "print(support)"
   ]
  },
  {
   "cell_type": "code",
   "execution_count": 10,
   "metadata": {},
   "outputs": [
    {
     "name": "stdout",
     "output_type": "stream",
     "text": [
      "{1, 2, 3, 4, 5, 6, 7, 8}\n",
      "{4, 5, 6}\n",
      "{1, 2, 3, 7, 8}\n"
     ]
    }
   ],
   "source": [
    "# Crie dois conjuntos de números e faça a união, interseção e diferença entre eles.\n",
    "\n",
    "# Definição dos conjuntos\n",
    "conj = {1, 2, 3, 4, 5, 6}\n",
    "conju = {4, 5, 6, 7, 8}\n",
    "\n",
    "uniao = conj | conju          \n",
    "interseccao = conj & conju      \n",
    "diferenca = conj ^ conju      \n",
    "\n",
    "print(uniao)\n",
    "print(interseccao)\n",
    "print(diferenca)\n"
   ]
  },
  {
   "cell_type": "code",
   "execution_count": 13,
   "metadata": {},
   "outputs": [
    {
     "name": "stdout",
     "output_type": "stream",
     "text": [
      "{'pizza': 2, 'é': 2, 'bom': 1}\n"
     ]
    }
   ],
   "source": [
    "# Peça ao usuário para digitar uma frase e conte quantas vezes cada palavra aparece, armazenando isso em um dicionário.\n",
    "\n",
    "frase = input(\"Digite uma frase: \")\n",
    "dic = {}\n",
    "\n",
    "palavras = frase.split(\" \")\n",
    "\n",
    "for palavra in palavras:\n",
    "    if palavra in dic:\n",
    "        dic[palavra] += 1\n",
    "    else:\n",
    "        dic[palavra] = 1\n",
    "        \n",
    "print(dic)"
   ]
  }
 ],
 "metadata": {
  "kernelspec": {
   "display_name": "3.11.8",
   "language": "python",
   "name": "python3"
  },
  "language_info": {
   "codemirror_mode": {
    "name": "ipython",
    "version": 3
   },
   "file_extension": ".py",
   "mimetype": "text/x-python",
   "name": "python",
   "nbconvert_exporter": "python",
   "pygments_lexer": "ipython3",
   "version": "3.11.8"
  }
 },
 "nbformat": 4,
 "nbformat_minor": 2
}
