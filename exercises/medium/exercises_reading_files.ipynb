{
 "cells": [
  {
   "cell_type": "code",
   "execution_count": null,
   "metadata": {},
   "outputs": [
    {
     "name": "stdout",
     "output_type": "stream",
     "text": [
      "46\n"
     ]
    }
   ],
   "source": [
    "# Escreva um programa que conte quantas linhas existem em um arquivo.\n",
    "\n",
    "with open(\"C:/Users/user/Documents/python_roadmap/resources/song.txt\", \"r\") as arquivo:\n",
    "    linhas = len(arquivo.readlines())\n",
    "print(linhas)"
   ]
  },
  {
   "cell_type": "code",
   "execution_count": null,
   "metadata": {},
   "outputs": [
    {
     "name": "stdout",
     "output_type": "stream",
     "text": [
      "291\n"
     ]
    }
   ],
   "source": [
    "# Conte quantas palavras existem dentro de um arquivo de texto.\n",
    "\n",
    "with open(\"C:/Users/user/Documents/python_roadmap/resources/song.txt\", \"r\") as arquivo:\n",
    "    lyrics = arquivo.read()\n",
    "    \n",
    "palavras = lyrics.split()\n",
    "print(len(palavras))"
   ]
  },
  {
   "cell_type": "code",
   "execution_count": 20,
   "metadata": {},
   "outputs": [
    {
     "name": "stdout",
     "output_type": "stream",
     "text": [
      "8\n"
     ]
    }
   ],
   "source": [
    "# O programa deve perguntar ao usuário por uma palavra e verificar quantas vezes ela aparece no arquivo.\n",
    "\n",
    "word = input(\"Digite uma palavra: \")\n",
    "\n",
    "count_word = 0\n",
    "for wd in palavras:\n",
    "    if wd == word:\n",
    "        count_word += 1\n",
    "        \n",
    "print(count_word)"
   ]
  },
  {
   "cell_type": "code",
   "execution_count": null,
   "metadata": {},
   "outputs": [
    {
     "name": "stdout",
     "output_type": "stream",
     "text": [
      "<_io.TextIOWrapper name='C:/Users/user/Documents/python_roadmap/resources/copia.txt' mode='w' encoding='cp1252'>\n"
     ]
    }
   ],
   "source": [
    "# Crie um programa que copie o conteúdo de dados.txt para um novo arquivo chamado copia.txt\n",
    "\n",
    "with open(\"C:/Users/user/Documents/python_roadmap/resources/dados.txt\", \"r\") as source_file:\n",
    "    with open(\"C:/Users/user/Documents/python_roadmap/resources/copia.txt\", \"w\") as destination_file:\n",
    "        destination_file.write(source_file.read())"
   ]
  }
 ],
 "metadata": {
  "kernelspec": {
   "display_name": "3.11.8",
   "language": "python",
   "name": "python3"
  },
  "language_info": {
   "codemirror_mode": {
    "name": "ipython",
    "version": 3
   },
   "file_extension": ".py",
   "mimetype": "text/x-python",
   "name": "python",
   "nbconvert_exporter": "python",
   "pygments_lexer": "ipython3",
   "version": "3.11.8"
  }
 },
 "nbformat": 4,
 "nbformat_minor": 2
}
